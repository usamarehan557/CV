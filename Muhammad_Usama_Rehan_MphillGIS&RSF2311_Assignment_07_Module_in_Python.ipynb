{
 "cells": [
  {
   "cell_type": "markdown",
   "id": "779a9769",
   "metadata": {},
   "source": [
    "### Assignment-07 (Module_in_Python)\n",
    "- Change the notebook name with your name and Roll Number.\n",
    "- Try this as your own, no chatgpt (it's for your learning)\n",
    "- after completing the assignment, submit this book on google class room."
   ]
  },
  {
   "cell_type": "markdown",
   "id": "46e7a5c0",
   "metadata": {},
   "source": [
    "Explain the difference between import module and from module import *. Provide an example for each."
   ]
  },
  {
   "cell_type": "code",
   "execution_count": null,
   "id": "3e218580",
   "metadata": {},
   "outputs": [],
   "source": [
    "# In Python, both `import module` and `from module import *` are ways to bring functionality from a module into your code, but they have key differences.\n",
    "\n",
    "### `import module`:\n",
    "\n",
    "# This form of import brings the entire module into your code, and you access its contents using the module's name as a prefix.\n",
    "\n",
    "# **Example:**\n",
    "# import the entire module\n",
    "import math\n",
    "\n",
    "# usage\n",
    "result = math.sqrt(25)\n",
    "print(result)  # Output: 5.0\n",
    "\n",
    "# In this example, the `import math` statement brings the entire `math` module into the code. You then access the `sqrt` function using `math.sqrt`.\n",
    "\n",
    "### `from module import *`:\n",
    "\n",
    "# This form of import brings all names defined in the module directly into your code's namespace. While convenient, it can lead to naming conflicts and makes it less clear where a particular name comes from.\n",
    "\n",
    "# **Example:**\n",
    "# import all names from the module directly\n",
    "from math import *\n",
    "\n",
    "# usage\n",
    "result = sqrt(25)\n",
    "print(result)  # Output: 5.0\n",
    "\n",
    "# In this example, the `from math import *` statement brings all names from the `math` module directly into the code's namespace. This means you can use `sqrt` without needing to prefix it with `math.`.\n",
    "\n",
    "### Key Differences:\n",
    "\n",
    "# 1. **Namespace Pollution:**\n",
    "#    - `import module`: Introduces the module into your namespace, and you access its contents using the module's name as a prefix, which helps avoid namespace pollution.\n",
    "#    - `from module import *`: Introduces all names from the module directly into your namespace, which may lead to naming conflicts.\n",
    "\n",
    "# 2. **Clarity:**\n",
    "#    - `import module`: Provides clear visibility of the module's origin for each item used in your code.\n",
    "#    - `from module import *`: Can make it less clear where a particular name comes from, especially in larger codebases.\n",
    "\n",
    "# 3. **Explicitness:**\n",
    "#    - `import module`: Requires explicit reference to the module name when accessing its contents, enhancing code readability.\n",
    "#    - `from module import *`: Can make code less explicit, potentially leading to confusion about the origin of names.\n",
    "\n",
    "# In general, it is recommended to use `import module` or `from module import specific_name` to make your code more readable and avoid potential naming conflicts. The use of `from module import *` is discouraged in most cases due to its potential for causing namespace pollution and making the code less clear."
   ]
  },
  {
   "cell_type": "markdown",
   "id": "935bbfe7",
   "metadata": {},
   "source": [
    "What is an alias, and how can it be used while importing a module? Provide an example."
   ]
  },
  {
   "cell_type": "code",
   "execution_count": 2,
   "id": "944a369c",
   "metadata": {},
   "outputs": [
    {
     "name": "stdout",
     "output_type": "stream",
     "text": [
      "5.0\n",
      "5.0\n"
     ]
    }
   ],
   "source": [
    "# In Python, an alias is an alternative name that you can give to a module, a class, or a function when you import it. Aliases are used to provide a shorter or more convenient name for a module or to avoid naming conflicts in your code.\n",
    "\n",
    "### Using Aliases with Module Import:\n",
    "\n",
    "# Here's an example of using an alias when importing a module:\n",
    "\n",
    "# Importing the math module with an alias\n",
    "import math as m\n",
    "\n",
    "# Usage of the alias\n",
    "sqr_rt = m.sqrt(25)\n",
    "print(sqr_rt)  # Output: 5.0\n",
    "\n",
    "# In this example, `import math as m` imports the `math` module and gives it the alias `m`. Now, you can use `m` as a shorthand for `math` when accessing its functions or attributes.\n",
    "\n",
    "### Using Aliases with Function or Class Import:\n",
    "\n",
    "# You can also use aliases when importing specific functions or classes from a module:\n",
    "\n",
    "# Importing only the sqrt function from the math module with an alias\n",
    "from math import sqrt as square_root\n",
    "\n",
    "# Usage of the alias\n",
    "sqr_rt = square_root(25)\n",
    "print(sqr_rt)  # Output: 5.0\n",
    "\n",
    "# In this example, `from math import sqrt as square_root` imports only the `sqrt` function from the `math` module and gives it the alias `square_root`.\n",
    "\n",
    "### Benefits of Using Aliases:\n",
    "\n",
    "# 1. **Shorter Names:** Aliases allow you to use shorter names for modules, making your code more concise.\n",
    "# 2. **Avoiding Naming Conflicts:** Aliases help avoid naming conflicts, especially when working with modules that have common names.\n",
    "\n",
    "### Considerations:\n",
    "\n",
    "# While aliases can be helpful, it's important to choose meaningful and clear names to maintain code readability. Also, avoid using aliases that are too short or cryptic, as this can make the code less understandable.\n",
    "\n",
    "# Avoid using overly short or cryptic aliases\n",
    "import pandas as pd\n",
    "import numpy as np\n",
    "\n",
    "# In this common practice, the aliases `pd` for Pandas and `np` for NumPy are widely accepted and understood in the Python community."
   ]
  },
  {
   "cell_type": "markdown",
   "id": "1e1d37c8",
   "metadata": {},
   "source": [
    "Demonstrate the use of the importlib module to import a module dynamically."
   ]
  },
  {
   "cell_type": "code",
   "execution_count": 4,
   "id": "cd334b12",
   "metadata": {},
   "outputs": [
    {
     "name": "stdout",
     "output_type": "stream",
     "text": [
      "Result from dynamically imported module: 1.4142135623730951\n"
     ]
    }
   ],
   "source": [
    "import importlib\n",
    "\n",
    "def dynamically_import_module(module_name):\n",
    "    try:\n",
    "        dynamic_module = importlib.import_module(module_name)\n",
    "        result = dynamic_module.sqrt(2)\n",
    "        print(f\"Result from dynamically imported module: {result}\")\n",
    "    except ImportError as e:\n",
    "        print(f\"Error: Unable to import module '{module_name}': {e}\")\n",
    "dynamically_import_module(\"math\")"
   ]
  },
  {
   "cell_type": "markdown",
   "id": "520b6194",
   "metadata": {},
   "source": [
    "Implement a function that takes an angle in degrees and converts it to radians using the math module."
   ]
  },
  {
   "cell_type": "code",
   "execution_count": 1,
   "id": "944626ba",
   "metadata": {},
   "outputs": [
    {
     "data": {
      "text/plain": [
       "0.17453292519943295"
      ]
     },
     "execution_count": 1,
     "metadata": {},
     "output_type": "execute_result"
    }
   ],
   "source": [
    "import math\n",
    "\n",
    "def deg_to_rads(degrees):\n",
    "    radians = degrees * math.pi / 180\n",
    "    return radians\n",
    "\n",
    "deg_to_rads(10)"
   ]
  },
  {
   "cell_type": "markdown",
   "id": "b81395fe",
   "metadata": {},
   "source": [
    "Create a program that simulates the rolling of a six-sided die using the random module."
   ]
  },
  {
   "cell_type": "code",
   "execution_count": 4,
   "id": "f5698b8a",
   "metadata": {},
   "outputs": [
    {
     "name": "stdout",
     "output_type": "stream",
     "text": [
      "Rolling:  3\n",
      "Rolling:  1\n",
      "Rolling:  1\n",
      "Rolling:  1\n",
      "Rolling:  6\n",
      "Rolling:  2\n"
     ]
    }
   ],
   "source": [
    "import random\n",
    "\n",
    "def roll_die():\n",
    "    return random.randint(1, 6)\n",
    "\n",
    "for _ in range(6):\n",
    "    print(\"Rolling: \", roll_die())\n"
   ]
  },
  {
   "cell_type": "markdown",
   "id": "aefd02a7",
   "metadata": {},
   "source": [
    "Implement a timer function that measures the execution time of a piece of code using the time module."
   ]
  },
  {
   "cell_type": "code",
   "execution_count": 5,
   "id": "b779c39c",
   "metadata": {},
   "outputs": [
    {
     "name": "stdout",
     "output_type": "stream",
     "text": [
      "function took 0.007992267608642578\n"
     ]
    }
   ],
   "source": [
    "import time\n",
    "\n",
    "def timer(func):\n",
    "    def wrapper(*args, **kwargs):\n",
    "        start_time = time.time()\n",
    "        result = func(*args, **kwargs)\n",
    "        end_time = time.time()\n",
    "        execution_time = end_time - start_time\n",
    "        print(f\"function took {execution_time}\")\n",
    "        return result\n",
    "    return wrapper\n",
    "\n",
    "@timer\n",
    "def do_somthing():\n",
    "    for _ in range(100000):\n",
    "        pass\n",
    "\n",
    "do_somthing()"
   ]
  },
  {
   "cell_type": "markdown",
   "id": "6d6cdae3",
   "metadata": {},
   "source": [
    "Write a function that calculates the difference in days between two given dates using the datetime module."
   ]
  },
  {
   "cell_type": "code",
   "execution_count": 6,
   "id": "65c3ce92",
   "metadata": {},
   "outputs": [
    {
     "name": "stdout",
     "output_type": "stream",
     "text": [
      "364\n"
     ]
    }
   ],
   "source": [
    "from datetime import datetime\n",
    "\n",
    "def difference_in_days(date1, date2):\n",
    "    date_format = \"%Y-%m-%d\"\n",
    "    datetime1 = datetime.strptime(date1, date_format)\n",
    "    datetime2 = datetime.strptime(date2, date_format)\n",
    "\n",
    "    return abs((datetime2 - datetime1).days)\n",
    "\n",
    "print(difference_in_days(\"2022-01-01\", \"2022-12-31\"))"
   ]
  },
  {
   "cell_type": "markdown",
   "id": "729111d8",
   "metadata": {},
   "source": [
    "Implement a program that checks if a given year is a leap year using the calendar module."
   ]
  },
  {
   "cell_type": "code",
   "execution_count": 7,
   "id": "067716aa",
   "metadata": {},
   "outputs": [
    {
     "name": "stdout",
     "output_type": "stream",
     "text": [
      "2024 is a leap year.\n"
     ]
    }
   ],
   "source": [
    "import calendar\n",
    "\n",
    "def is_leap_year(year):\n",
    "    return calendar.isleap(year)\n",
    "\n",
    "if is_leap_year(2024):\n",
    "    print(f\"2024 is a leap year.\")\n",
    "else:\n",
    "    print(f\"no its not\")\n"
   ]
  },
  {
   "cell_type": "markdown",
   "id": "8c4f73f2",
   "metadata": {},
   "source": [
    "Create a program that checks if a specific file exists in a given directory using the os module."
   ]
  },
  {
   "cell_type": "code",
   "execution_count": null,
   "id": "f62123d1",
   "metadata": {},
   "outputs": [],
   "source": [
    "import os\n",
    "\n",
    "def check_file_exists(directory, filename):\n",
    "    file_path = os.path.join(directory, filename)\n",
    "    return os.path.isfile(file_path)\n",
    "\n",
    "if check_file_exists(\"/path/to/your/directory\", \"file.txt\"):\n",
    "    print(f\"file exists\")\n",
    "else:\n",
    "    print(f\"file does not exists\")\n"
   ]
  },
  {
   "cell_type": "markdown",
   "id": "c1b34e47",
   "metadata": {},
   "source": [
    "Write a program that uses threading to perform parallel execution of three tasks."
   ]
  },
  {
   "cell_type": "code",
   "execution_count": 10,
   "id": "954bcf1d",
   "metadata": {},
   "outputs": [
    {
     "name": "stdout",
     "output_type": "stream",
     "text": [
      "Task 1 started\n",
      "Task 2 started\n",
      "Task 3 started\n",
      "Task 1 completed\n",
      "Task 3 completed\n",
      "Task 2 completed\n",
      "All tasks completed\n"
     ]
    }
   ],
   "source": [
    "import threading\n",
    "import time\n",
    "\n",
    "def task_1():\n",
    "    print(\"Task 1 started\")\n",
    "    time.sleep(2)\n",
    "    print(\"Task 1 completed\")\n",
    "\n",
    "def task_2():\n",
    "    print(\"Task 2 started\")\n",
    "    time.sleep(4)\n",
    "    print(\"Task 2 completed\")\n",
    "\n",
    "def task_3():\n",
    "    print(\"Task 3 started\")\n",
    "    time.sleep(3)\n",
    "    print(\"Task 3 completed\")\n",
    "\n",
    "# Create threads for each task\n",
    "thread1 = threading.Thread(target=task_1)\n",
    "thread2 = threading.Thread(target=task_2)\n",
    "thread3 = threading.Thread(target=task_3)\n",
    "\n",
    "# Start the threads\n",
    "thread1.start()\n",
    "thread2.start()\n",
    "thread3.start()\n",
    "\n",
    "# Wait for all threads to finish\n",
    "thread1.join()\n",
    "thread2.join()\n",
    "thread3.join()\n",
    "\n",
    "print(\"All tasks completed\")\n"
   ]
  },
  {
   "cell_type": "markdown",
   "id": "0fdd3e7c",
   "metadata": {},
   "source": [
    "Implement a program that downloads an image from a URL using the urllib module."
   ]
  },
  {
   "cell_type": "code",
   "execution_count": 16,
   "id": "950950d9",
   "metadata": {},
   "outputs": [
    {
     "name": "stdout",
     "output_type": "stream",
     "text": [
      "Error: HTTP Error 403: Forbidden\n"
     ]
    }
   ],
   "source": [
    "import urllib.request\n",
    "\n",
    "def download_image(url, destination):\n",
    "    try:\n",
    "        urllib.request.urlretrieve(url, destination)\n",
    "        print(f\"Image downloaded to: {destination}\")\n",
    "    except Exception as e:\n",
    "        print(f\"Error: {e}\")\n",
    "\n",
    "image_url = \"https://images.pexels.com/photos/296282/pexels-photo-296282.jpeg\"\n",
    "save_path = \"./downloaded_image.jpeg\"\n",
    "\n",
    "download_image(image_url, save_path)\n"
   ]
  }
 ],
 "metadata": {
  "kernelspec": {
   "display_name": "Python 3 (ipykernel)",
   "language": "python",
   "name": "python3"
  },
  "language_info": {
   "codemirror_mode": {
    "name": "ipython",
    "version": 3
   },
   "file_extension": ".py",
   "mimetype": "text/x-python",
   "name": "python",
   "nbconvert_exporter": "python",
   "pygments_lexer": "ipython3",
   "version": "3.11.2"
  }
 },
 "nbformat": 4,
 "nbformat_minor": 5
}
