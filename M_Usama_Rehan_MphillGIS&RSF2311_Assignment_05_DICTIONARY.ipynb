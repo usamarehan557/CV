{
 "cells": [
  {
   "cell_type": "markdown",
   "id": "d3b1242a",
   "metadata": {},
   "source": [
    "### Assignment-05 (DICTIONARY)\n",
    "- Change the notebook name with your name and Roll Number.\n",
    "- Try this as your own, no chatgpt (it's for your learning)\n",
    "- after completing the assignment, submit this book on google class room."
   ]
  },
  {
   "cell_type": "markdown",
   "id": "3079cae1",
   "metadata": {},
   "source": [
    "    Create an empty dictionary and print it.\n"
   ]
  },
  {
   "cell_type": "code",
   "execution_count": null,
   "id": "1e0b1c0d",
   "metadata": {},
   "outputs": [],
   "source": [
    "empty_dict = {}\n",
    "print(empty_dict)"
   ]
  },
  {
   "cell_type": "markdown",
   "id": "c02f03e9",
   "metadata": {},
   "source": [
    "    Create a dictionary representing a person with keys such as 'name', 'age', and 'city'.\n"
   ]
  },
  {
   "cell_type": "code",
   "execution_count": null,
   "id": "1c55f8a0",
   "metadata": {},
   "outputs": [],
   "source": [
    "person = {\n",
    "    'name': 'usama',\n",
    "    'age': 26,\n",
    "    'city': 'Islamabad'\n",
    "}"
   ]
  },
  {
   "cell_type": "markdown",
   "id": "3de2a866",
   "metadata": {},
   "source": [
    "    Create a dictionary that includes keys with different data types (strings, integers)."
   ]
  },
  {
   "cell_type": "code",
   "execution_count": null,
   "id": "89c0b2ee",
   "metadata": {},
   "outputs": [],
   "source": [
    "person = {\n",
    "    'name': 'usama',\n",
    "    'age': 26,\n",
    "    'city': 'Islamabad'\n",
    "}"
   ]
  },
  {
   "cell_type": "markdown",
   "id": "41ce050c",
   "metadata": {},
   "source": [
    "Access and print the value associated with a specific key."
   ]
  },
  {
   "cell_type": "code",
   "execution_count": 2,
   "id": "ec5dbc94",
   "metadata": {},
   "outputs": [
    {
     "name": "stdout",
     "output_type": "stream",
     "text": [
      "usama\n"
     ]
    }
   ],
   "source": [
    "person = {\n",
    "    'name': 'usama',\n",
    "    'age': 26,\n",
    "    'city': 'Islamabad'\n",
    "}\n",
    "\n",
    "print(person['name'])"
   ]
  },
  {
   "cell_type": "markdown",
   "id": "b6b0c37d",
   "metadata": {},
   "source": [
    "    Use the get() method to access a value, providing a default value if the key is not present.\n"
   ]
  },
  {
   "cell_type": "code",
   "execution_count": 3,
   "id": "7aa9e88c",
   "metadata": {},
   "outputs": [
    {
     "name": "stdout",
     "output_type": "stream",
     "text": [
      "26\n"
     ]
    }
   ],
   "source": [
    "person = {\n",
    "    'name': 'usama',\n",
    "    'age': 26,\n",
    "    'city': 'Islamabad'\n",
    "}\n",
    "\n",
    "print(person.get('age'))"
   ]
  },
  {
   "cell_type": "markdown",
   "id": "fd070da0",
   "metadata": {},
   "source": [
    "    Iterate through the keys of a dictionary and print each key."
   ]
  },
  {
   "cell_type": "code",
   "execution_count": 4,
   "id": "20a421cc",
   "metadata": {},
   "outputs": [
    {
     "name": "stdout",
     "output_type": "stream",
     "text": [
      "name\n",
      "age\n",
      "city\n"
     ]
    }
   ],
   "source": [
    "person = {\n",
    "    'name': 'usama',\n",
    "    'age': 26,\n",
    "    'city': 'Islamabad'\n",
    "}\n",
    "\n",
    "for k in person:\n",
    "    print(k)"
   ]
  },
  {
   "cell_type": "markdown",
   "id": "b743bd62",
   "metadata": {},
   "source": [
    "Add a new key-value pair to a dictionary."
   ]
  },
  {
   "cell_type": "code",
   "execution_count": 5,
   "id": "db404144",
   "metadata": {},
   "outputs": [
    {
     "name": "stdout",
     "output_type": "stream",
     "text": [
      "{'name': 'usama', 'age': 26, 'city': 'Islamabad', 'hobby': 'thinking'}\n"
     ]
    }
   ],
   "source": [
    "person = {\n",
    "    'name': 'usama',\n",
    "    'age': 26,\n",
    "    'city': 'Islamabad'\n",
    "}\n",
    "\n",
    "person['hobby'] = 'thinking'\n",
    "\n",
    "print(person)"
   ]
  },
  {
   "cell_type": "markdown",
   "id": "ef13537b",
   "metadata": {},
   "source": [
    "Modify the value associated with an existing key."
   ]
  },
  {
   "cell_type": "code",
   "execution_count": 6,
   "id": "5e655290",
   "metadata": {},
   "outputs": [
    {
     "name": "stdout",
     "output_type": "stream",
     "text": [
      "{'name': 'usama', 'age': 26, 'city': 'Lahore'}\n"
     ]
    }
   ],
   "source": [
    "person = {\n",
    "    'name': 'usama',\n",
    "    'age': 26,\n",
    "    'city': 'Islamabad'\n",
    "}\n",
    "\n",
    "person['city'] = 'Lahore'\n",
    "\n",
    "print(person)"
   ]
  },
  {
   "cell_type": "markdown",
   "id": "2ff9fb92",
   "metadata": {},
   "source": [
    "Remove a specific key-value pair from a dictionary using the pop() method.\n",
    "\n"
   ]
  },
  {
   "cell_type": "code",
   "execution_count": 8,
   "id": "1bdb4169",
   "metadata": {},
   "outputs": [
    {
     "name": "stdout",
     "output_type": "stream",
     "text": [
      "{'name': 'usama', 'city': 'Islamabad'}\n"
     ]
    }
   ],
   "source": [
    "person = {\n",
    "    'name': 'usama',\n",
    "    'age': 26,\n",
    "    'city': 'Islamabad'\n",
    "}\n",
    "\n",
    "person.pop('age')\n",
    "\n",
    "print(person)"
   ]
  },
  {
   "cell_type": "markdown",
   "id": "edc2abf7",
   "metadata": {},
   "source": [
    "    Remove a specific key-value pair from a dictionary using the del statement."
   ]
  },
  {
   "cell_type": "code",
   "execution_count": 9,
   "id": "538eca73",
   "metadata": {},
   "outputs": [
    {
     "name": "stdout",
     "output_type": "stream",
     "text": [
      "{'name': 'usama', 'city': 'Islamabad'}\n"
     ]
    }
   ],
   "source": [
    "person = {\n",
    "    'name': 'usama',\n",
    "    'age': 26,\n",
    "    'city': 'Islamabad'\n",
    "}\n",
    "\n",
    "del(person['age'])\n",
    "\n",
    "print(person)"
   ]
  },
  {
   "cell_type": "markdown",
   "id": "0f2d7e6a",
   "metadata": {},
   "source": [
    "Convert a dictionary to a list of keys."
   ]
  },
  {
   "cell_type": "code",
   "execution_count": 10,
   "id": "5705250c",
   "metadata": {},
   "outputs": [
    {
     "name": "stdout",
     "output_type": "stream",
     "text": [
      "['name', 'age', 'city']\n"
     ]
    }
   ],
   "source": [
    "person = {\n",
    "    'name': 'usama',\n",
    "    'age': 26,\n",
    "    'city': 'Islamabad'\n",
    "}\n",
    "\n",
    "l = list(person.keys())\n",
    "\n",
    "print(l)"
   ]
  },
  {
   "cell_type": "markdown",
   "id": "1191e090",
   "metadata": {},
   "source": [
    "    Convert a dictionary to a list of values.\n"
   ]
  },
  {
   "cell_type": "code",
   "execution_count": 11,
   "id": "e89b908a",
   "metadata": {},
   "outputs": [
    {
     "name": "stdout",
     "output_type": "stream",
     "text": [
      "['usama', 26, 'Islamabad']\n"
     ]
    }
   ],
   "source": [
    "person = {\n",
    "    'name': 'usama',\n",
    "    'age': 26,\n",
    "    'city': 'Islamabad'\n",
    "}\n",
    "\n",
    "v = list(person.values())\n",
    "\n",
    "print(v)"
   ]
  },
  {
   "cell_type": "markdown",
   "id": "f72c7f5e",
   "metadata": {},
   "source": [
    "    Convert a list of tuples to a dictionary."
   ]
  },
  {
   "cell_type": "code",
   "execution_count": 12,
   "id": "2f531bc4",
   "metadata": {},
   "outputs": [
    {
     "name": "stdout",
     "output_type": "stream",
     "text": [
      "{'a': 1, 'b': 2, 'c': 3}\n"
     ]
    }
   ],
   "source": [
    "tuples = [('a', 1), ('b', 2), ('c', 3)]\n",
    "dict = dict(tuples)\n",
    "\n",
    "print(dict)\n"
   ]
  },
  {
   "cell_type": "markdown",
   "id": "8ce9bedf",
   "metadata": {},
   "source": [
    "Use the keys() method to get a list of keys in a dictionary.\n"
   ]
  },
  {
   "cell_type": "code",
   "execution_count": 13,
   "id": "7d975a45",
   "metadata": {},
   "outputs": [
    {
     "name": "stdout",
     "output_type": "stream",
     "text": [
      "['name', 'age', 'city']\n"
     ]
    }
   ],
   "source": [
    "person = {\n",
    "    'name': 'usama',\n",
    "    'age': 26,\n",
    "    'city': 'Islamabad'\n",
    "}\n",
    "\n",
    "v = list(person.keys())\n",
    "\n",
    "print(v)"
   ]
  },
  {
   "cell_type": "markdown",
   "id": "8adb7c9d",
   "metadata": {},
   "source": [
    "\n",
    "    Use the values() method to get a list of values in a dictionary.\n"
   ]
  },
  {
   "cell_type": "code",
   "execution_count": 14,
   "id": "fb8a455c",
   "metadata": {},
   "outputs": [
    {
     "name": "stdout",
     "output_type": "stream",
     "text": [
      "['usama', 26, 'Islamabad']\n"
     ]
    }
   ],
   "source": [
    "person = {\n",
    "    'name': 'usama',\n",
    "    'age': 26,\n",
    "    'city': 'Islamabad'\n",
    "}\n",
    "\n",
    "v = list(person.values())\n",
    "\n",
    "print(v)"
   ]
  },
  {
   "cell_type": "markdown",
   "id": "b4b044e4",
   "metadata": {},
   "source": [
    "    Use the items() method to get a list of key-value pairs in a dictionary."
   ]
  },
  {
   "cell_type": "code",
   "execution_count": 15,
   "id": "ca390b74",
   "metadata": {},
   "outputs": [
    {
     "name": "stdout",
     "output_type": "stream",
     "text": [
      "[('name', 'usama'), ('age', 26), ('city', 'Islamabad')]\n"
     ]
    }
   ],
   "source": [
    "person = {\n",
    "    'name': 'usama',\n",
    "    'age': 26,\n",
    "    'city': 'Islamabad'\n",
    "}\n",
    "\n",
    "v = list(person.items())\n",
    "\n",
    "print(v)"
   ]
  },
  {
   "cell_type": "markdown",
   "id": "bd4eb41b",
   "metadata": {},
   "source": [
    "Check if a key is present in a dictionary using the in operator.\n",
    "\n"
   ]
  },
  {
   "cell_type": "code",
   "execution_count": 16,
   "id": "39c2a92f",
   "metadata": {},
   "outputs": [
    {
     "name": "stdout",
     "output_type": "stream",
     "text": [
      "ok\n"
     ]
    }
   ],
   "source": [
    "person = {\n",
    "    'name': 'usama',\n",
    "    'age': 26,\n",
    "    'city': 'Islamabad'\n",
    "}\n",
    "\n",
    "if 'name' in person:\n",
    "    print('ok')"
   ]
  },
  {
   "cell_type": "markdown",
   "id": "ba80007f",
   "metadata": {},
   "source": [
    "    Use the setdefault() method to add a key with a default value if it doesn't exist.\n"
   ]
  },
  {
   "cell_type": "code",
   "execution_count": 17,
   "id": "cc19bd44",
   "metadata": {},
   "outputs": [
    {
     "name": "stdout",
     "output_type": "stream",
     "text": [
      "Updated Dictionary: {'a': 1, 'b': 2, 'c': 0}\n",
      "Default Value for 'c': 0\n"
     ]
    }
   ],
   "source": [
    "dict = {'a': 1, 'b': 2}\n",
    "default_value = dict.setdefault('c', 0)\n",
    "\n",
    "print(\"Updated Dictionary:\", dict)\n",
    "print(\"Default Value for 'c':\", default_value)"
   ]
  },
  {
   "cell_type": "markdown",
   "id": "5dd9b173",
   "metadata": {},
   "source": [
    "    Merge two dictionaries using the update() method.\n"
   ]
  },
  {
   "cell_type": "code",
   "execution_count": 18,
   "id": "05e95981",
   "metadata": {},
   "outputs": [
    {
     "name": "stdout",
     "output_type": "stream",
     "text": [
      "Merged Dictionary: {'a': 1, 'b': 3, 'c': 4}\n"
     ]
    }
   ],
   "source": [
    "dict1 = {'a': 1, 'b': 2}\n",
    "dict2 = {'b': 3, 'c': 4}\n",
    "dict1.update(dict2)\n",
    "print(\"Merged Dictionary:\", dict1)\n"
   ]
  },
  {
   "cell_type": "markdown",
   "id": "1415c188",
   "metadata": {},
   "source": [
    "    Use the clear() method to remove all elements from a dictionary."
   ]
  },
  {
   "cell_type": "code",
   "execution_count": 20,
   "id": "bdf48d4c",
   "metadata": {},
   "outputs": [
    {
     "name": "stdout",
     "output_type": "stream",
     "text": [
      "Cleared Dictionary: {}\n"
     ]
    }
   ],
   "source": [
    "dict1 = {'a': 1, 'b': 2}\n",
    "dict1.clear()\n",
    "print(\"Cleared Dictionary:\", dict1)\n"
   ]
  }
 ],
 "metadata": {
  "kernelspec": {
   "display_name": "Python 3 (ipykernel)",
   "language": "python",
   "name": "python3"
  },
  "language_info": {
   "codemirror_mode": {
    "name": "ipython",
    "version": 3
   },
   "file_extension": ".py",
   "mimetype": "text/x-python",
   "name": "python",
   "nbconvert_exporter": "python",
   "pygments_lexer": "ipython3",
   "version": "3.11.2"
  }
 },
 "nbformat": 4,
 "nbformat_minor": 5
}
