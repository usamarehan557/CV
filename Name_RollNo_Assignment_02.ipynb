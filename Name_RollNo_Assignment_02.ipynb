{
 "cells": [
  {
   "cell_type": "markdown",
   "id": "1776f63f",
   "metadata": {},
   "source": [
    "### Assignment-02\n",
    "- Change the notebook name with your name and Roll Number.\n",
    "- Try this as your own, no chatgpt (it's for your learning)\n",
    "- after completing the assignment, submit this book on google class room."
   ]
  },
  {
   "cell_type": "markdown",
   "id": "5bc28c35",
   "metadata": {},
   "source": [
    "Declare and print a variable with the name \"name\" containing your name.\n"
   ]
  },
  {
   "cell_type": "code",
   "execution_count": null,
   "id": "4eb1e464",
   "metadata": {},
   "outputs": [],
   "source": [
    "name = \"Muhammad Usama Rehan\"\n",
    "print(name)"
   ]
  },
  {
   "cell_type": "markdown",
   "id": "b66e672b",
   "metadata": {},
   "source": [
    "Create two variables, x and y, and swap their values without using a third variable."
   ]
  },
  {
   "cell_type": "code",
   "execution_count": null,
   "id": "5734b25c",
   "metadata": {},
   "outputs": [],
   "source": [
    "# Initial values\n",
    "x = 5\n",
    "y = 10\n",
    "\n",
    "# Swapping without a third variable\n",
    "x = x + y\n",
    "y = x - y\n",
    "x = x - y\n",
    "\n",
    "# Now, x and y have their values swapped\n",
    "print(\"x:\", x)\n",
    "print(\"y:\", y)"
   ]
  },
  {
   "cell_type": "markdown",
   "id": "68c5f126",
   "metadata": {},
   "source": [
    "Calculate the area of a rectangle with length and width stored in variables.\n"
   ]
  },
  {
   "cell_type": "code",
   "execution_count": null,
   "id": "efead34a",
   "metadata": {},
   "outputs": [],
   "source": [
    "# Initial values\n",
    "height = 10\n",
    "width = 30\n",
    "# calculating area\n",
    "area = height * width\n",
    "#output\n",
    "print(area)"
   ]
  },
  {
   "cell_type": "markdown",
   "id": "e452ae4d",
   "metadata": {},
   "source": [
    "Create a variable with a long string (multi-line) and print its length."
   ]
  },
  {
   "cell_type": "code",
   "execution_count": null,
   "id": "0f7d6636",
   "metadata": {},
   "outputs": [],
   "source": [
    "string = \"\"\"I like eating mangoes \n",
    "but mangoes are so chemical full\"\"\"\n",
    "# output\n",
    "print(len(string))"
   ]
  },
  {
   "cell_type": "markdown",
   "id": "708def01",
   "metadata": {},
   "source": [
    "Create a variable to store your favorite number and print it."
   ]
  },
  {
   "cell_type": "code",
   "execution_count": null,
   "id": "d810e261",
   "metadata": {},
   "outputs": [],
   "source": [
    "my_fav_num = 1\n",
    "# output\n",
    "print(my_fav_num)"
   ]
  },
  {
   "cell_type": "markdown",
   "id": "9088a41e",
   "metadata": {},
   "source": [
    "Declare and assign values to multiple variables to represent the sides of a triangle. Calculate and print its perimeter.\n"
   ]
  },
  {
   "cell_type": "code",
   "execution_count": null,
   "id": "13d9d2d2",
   "metadata": {},
   "outputs": [],
   "source": [
    "side_a = 10\n",
    "side_b = 20\n",
    "side_c = 10\n",
    "# perimeter\n",
    "perimeter = side_a + side_b + side_c\n",
    "# output\n",
    "print(perimeter)"
   ]
  },
  {
   "cell_type": "markdown",
   "id": "a76f2d4f",
   "metadata": {},
   "source": [
    "Store the price of an item in one variable and the quantity in another. Calculate and print the total cost.\n"
   ]
  },
  {
   "cell_type": "code",
   "execution_count": null,
   "id": "8cc9115b",
   "metadata": {},
   "outputs": [],
   "source": [
    "item_price = 10\n",
    "item_qty = 20\n",
    "\n",
    "total_price = item_price * item_qty\n",
    "# output\n",
    "print(total_price)"
   ]
  },
  {
   "cell_type": "markdown",
   "id": "7d9d0793",
   "metadata": {},
   "source": [
    "Declare a constant variable for the value of pi (π) and use it to calculate the circumference of a circle with a given radius."
   ]
  },
  {
   "cell_type": "code",
   "execution_count": null,
   "id": "254f3e92",
   "metadata": {},
   "outputs": [],
   "source": [
    "PI = Math.pi\n",
    "radius = 5.0\n",
    "# Calculate the circumference of the circle\n",
    "circumference = 2 * PI * radius\n",
    "\n",
    "print(circumference)\n",
    "\n"
   ]
  },
  {
   "cell_type": "markdown",
   "id": "2415eca0",
   "metadata": {},
   "source": [
    "Calculate the sum of two numbers, a and b."
   ]
  },
  {
   "cell_type": "code",
   "execution_count": null,
   "id": "8eeee19d",
   "metadata": {},
   "outputs": [],
   "source": [
    "def sum(a, b):\n",
    "    return a + b\n",
    "\n",
    "print(sum(10, 5))"
   ]
  },
  {
   "cell_type": "markdown",
   "id": "2f3f9653",
   "metadata": {},
   "source": [
    "Calculate the product of two numbers, a and b.\n"
   ]
  },
  {
   "cell_type": "code",
   "execution_count": null,
   "id": "baac0709",
   "metadata": {},
   "outputs": [],
   "source": [
    "def multiply(a, b):\n",
    "    return a * b\n",
    "\n",
    "print(multiply(10, 5))"
   ]
  },
  {
   "cell_type": "markdown",
   "id": "263bb83b",
   "metadata": {},
   "source": [
    "Calculate the result of dividing a by b (with proper error handling for division by zero).\n"
   ]
  },
  {
   "cell_type": "code",
   "execution_count": null,
   "id": "783ef794",
   "metadata": {},
   "outputs": [],
   "source": [
    "def divide(dividand, divisor):\n",
    "    if divisor == 0:\n",
    "        raise ZeroDivisionError(\"Error: Division by zero is not allowed\")\n",
    "    return dividand//divisor\n",
    "try:\n",
    "    print(divide(1, 0))\n",
    "except ZeroDivisionError as e:\n",
    "    print(\"Error: Division by zero is not allowed\" + e)\n"
   ]
  },
  {
   "cell_type": "markdown",
   "id": "1160a016",
   "metadata": {},
   "source": [
    "Calculate the square of a number x."
   ]
  },
  {
   "cell_type": "code",
   "execution_count": null,
   "id": "ba1443de",
   "metadata": {},
   "outputs": [],
   "source": [
    "def sqrt(x):\n",
    "    return x*x\n",
    "\n",
    "print(sqrt(10))"
   ]
  },
  {
   "cell_type": "markdown",
   "id": "927cffd3",
   "metadata": {},
   "source": [
    "Calculate the remainder when a is divided by b."
   ]
  },
  {
   "cell_type": "code",
   "execution_count": null,
   "id": "f95b1e5c",
   "metadata": {},
   "outputs": [],
   "source": [
    "a = 10\n",
    "b = 5\n",
    "\n",
    "try:\n",
    "    print(a % b)\n",
    "except ZeroDivisionError as e:\n",
    "    print(e)"
   ]
  },
  {
   "cell_type": "markdown",
   "id": "fad0381a",
   "metadata": {},
   "source": [
    " Calculate the result of dividing 17 by 3 and print the quotient and remainder."
   ]
  },
  {
   "cell_type": "code",
   "execution_count": 1,
   "id": "6bbe2ffb",
   "metadata": {},
   "outputs": [
    {
     "name": "stdout",
     "output_type": "stream",
     "text": [
      "The quotient of 17 divided by 3 is 5, with a remainder of 2.\n"
     ]
    }
   ],
   "source": [
    "dividend = 17\n",
    "divisor = 3\n",
    "\n",
    "quotient = dividend // divisor\n",
    "remainder = dividend % divisor\n",
    "\n",
    "print(f\"The quotient of {dividend} divided by {divisor} is {quotient}, with a remainder of {remainder}.\")"
   ]
  },
  {
   "cell_type": "markdown",
   "id": "0abdb0ba",
   "metadata": {},
   "source": [
    "Calculate the area of a square with a given side length.\n"
   ]
  },
  {
   "cell_type": "code",
   "execution_count": null,
   "id": "4a0edefb",
   "metadata": {},
   "outputs": [],
   "source": [
    "# Given side length\n",
    "side_length = 5\n",
    "\n",
    "# Calculate the area\n",
    "area = side_length ** 2\n",
    "\n",
    "# Print the result\n",
    "print(f\"The area of the square with side length {side_length} is {area}.\")"
   ]
  },
  {
   "cell_type": "markdown",
   "id": "0c15704a",
   "metadata": {},
   "source": [
    "Calculate the average of five numbers.\n"
   ]
  },
  {
   "cell_type": "code",
   "execution_count": null,
   "id": "ae66922d",
   "metadata": {},
   "outputs": [],
   "source": [
    "# Given numbers\n",
    "num1 = 10\n",
    "num2 = 15\n",
    "num3 = 20\n",
    "num4 = 25\n",
    "num5 = 30\n",
    "\n",
    "# Calculate the sum\n",
    "sum_of_numbers = num1 + num2 + num3 + num4 + num5\n",
    "\n",
    "# Calculate the average\n",
    "count_of_numbers = 5\n",
    "average = sum_of_numbers / count_of_numbers\n",
    "\n",
    "# Print the result\n",
    "print(f\"The average of the five numbers is {average}.\")"
   ]
  },
  {
   "cell_type": "markdown",
   "id": "da3cde84",
   "metadata": {},
   "source": [
    "Create a variable with a boolean value and print its opposite value.\n"
   ]
  },
  {
   "cell_type": "code",
   "execution_count": 3,
   "id": "0bb430b5",
   "metadata": {},
   "outputs": [
    {
     "name": "stdout",
     "output_type": "stream",
     "text": [
      "Original Value: True\n",
      "Opposite Value: False\n"
     ]
    }
   ],
   "source": [
    "# Create a variable with a boolean value\n",
    "original_boolean = True\n",
    "\n",
    "# Print the original value\n",
    "print(\"Original Value:\", original_boolean)\n",
    "\n",
    "# Print the opposite value\n",
    "opposite_boolean = not original_boolean\n",
    "print(\"Opposite Value:\", opposite_boolean)"
   ]
  },
  {
   "cell_type": "markdown",
   "id": "d800b510",
   "metadata": {},
   "source": [
    "Store your birth year in a variable and calculate your age."
   ]
  },
  {
   "cell_type": "code",
   "execution_count": 2,
   "id": "94ac0a22",
   "metadata": {},
   "outputs": [
    {
     "name": "stdout",
     "output_type": "stream",
     "text": [
      "My year is 1997, and I'm 26 years old in 2023.\n"
     ]
    }
   ],
   "source": [
    "# Store your birth year in a variable\n",
    "birth_year = 1997\n",
    "\n",
    "# Get the current year\n",
    "current_year = 2023\n",
    "\n",
    "# Calculate your age\n",
    "age = current_year - birth_year\n",
    "\n",
    "# Print the result\n",
    "print(f\"My year is {birth_year}, and I'm {age} years old in {current_year}.\")\n"
   ]
  },
  {
   "cell_type": "markdown",
   "id": "193bd0c7",
   "metadata": {},
   "source": [
    "Create a variable with an integer and convert it to a float."
   ]
  },
  {
   "cell_type": "code",
   "execution_count": 4,
   "id": "c862dfa4",
   "metadata": {},
   "outputs": [
    {
     "name": "stdout",
     "output_type": "stream",
     "text": [
      "Original Integer Value: 42\n",
      "Converted Float Value: 42.0\n"
     ]
    }
   ],
   "source": [
    "# Create a variable with an integer\n",
    "integer_variable = 42\n",
    "\n",
    "# Convert it to a float\n",
    "float_variable = float(integer_variable)\n",
    "\n",
    "# Print the original and converted values\n",
    "print(\"Original Integer Value:\", integer_variable)\n",
    "print(\"Converted Float Value:\", float_variable)"
   ]
  },
  {
   "cell_type": "markdown",
   "id": "d6e985ae",
   "metadata": {},
   "source": [
    "Create a variable with a float and convert it to an integer."
   ]
  },
  {
   "cell_type": "code",
   "execution_count": null,
   "id": "db782f94",
   "metadata": {},
   "outputs": [],
   "source": [
    "# Create a variable with a float\n",
    "float_variable = 3.14\n",
    "\n",
    "# Convert it to an integer\n",
    "integer_variable = int(float_variable)\n",
    "\n",
    "# Print the original and converted values\n",
    "print(\"Original Float Value:\", float_variable)\n",
    "print(\"Converted Integer Value:\", integer_variable)\n"
   ]
  },
  {
   "cell_type": "markdown",
   "id": "03fbd24c",
   "metadata": {},
   "source": [
    "Create a variable with a string that represents an integer and convert it to an integer."
   ]
  },
  {
   "cell_type": "code",
   "execution_count": 5,
   "id": "15e98a9c",
   "metadata": {},
   "outputs": [
    {
     "name": "stdout",
     "output_type": "stream",
     "text": [
      "Original String Value: 42\n",
      "Converted Integer Value: 42\n"
     ]
    }
   ],
   "source": [
    "# Create a variable with a string representing an integer\n",
    "string_variable = \"42\"\n",
    "\n",
    "# Convert it to an integer\n",
    "integer_variable = int(string_variable)\n",
    "\n",
    "# Print the original string and converted integer values\n",
    "print(\"Original String Value:\", string_variable)\n",
    "print(\"Converted Integer Value:\", integer_variable)"
   ]
  },
  {
   "cell_type": "markdown",
   "id": "7b82ee26",
   "metadata": {},
   "source": [
    "Create a variable with a string that represents a float and convert it to a float.\n"
   ]
  },
  {
   "cell_type": "code",
   "execution_count": 7,
   "id": "31b96ee5",
   "metadata": {},
   "outputs": [
    {
     "name": "stdout",
     "output_type": "stream",
     "text": [
      "Original String Value: 3.14\n",
      "Converted Float Value: 3.14\n"
     ]
    }
   ],
   "source": [
    "# Create a variable with a string representing a float\n",
    "string_variable = \"3.14\"\n",
    "\n",
    "# Convert it to a float\n",
    "float_variable = float(string_variable)\n",
    "\n",
    "# Print the original string and converted float values\n",
    "print(\"Original String Value:\", string_variable)\n",
    "print(\"Converted Float Value:\", float_variable)\n"
   ]
  },
  {
   "cell_type": "markdown",
   "id": "55b70302",
   "metadata": {},
   "source": [
    "Create a variable with a number and convert it to a string."
   ]
  },
  {
   "cell_type": "code",
   "execution_count": 6,
   "id": "191ca6c0",
   "metadata": {},
   "outputs": [
    {
     "name": "stdout",
     "output_type": "stream",
     "text": [
      "Original Number Value: 42\n",
      "Converted String Value: 42\n"
     ]
    }
   ],
   "source": [
    "# Create a variable with a number\n",
    "number_variable = 42\n",
    "\n",
    "# Convert it to a string\n",
    "string_variable = str(number_variable)\n",
    "\n",
    "# Print the original number and converted string values\n",
    "print(\"Original Number Value:\", number_variable)\n",
    "print(\"Converted String Value:\", string_variable)"
   ]
  },
  {
   "cell_type": "markdown",
   "id": "12030234",
   "metadata": {},
   "source": [
    "Calculate the absolute value of a number."
   ]
  },
  {
   "cell_type": "code",
   "execution_count": 8,
   "id": "e6e2dbb2",
   "metadata": {},
   "outputs": [
    {
     "name": "stdout",
     "output_type": "stream",
     "text": [
      "The absolute value of -5 is 5.\n"
     ]
    }
   ],
   "source": [
    "# Given number\n",
    "number = -5\n",
    "\n",
    "# Calculate the absolute value\n",
    "absolute_value = abs(number)\n",
    "\n",
    "# Print the result\n",
    "print(f\"The absolute value of {number} is {absolute_value}.\")"
   ]
  },
  {
   "cell_type": "markdown",
   "id": "0bcb4315",
   "metadata": {},
   "source": [
    "Calculate the square root of a number.\n"
   ]
  },
  {
   "cell_type": "code",
   "execution_count": 9,
   "id": "1ffc86be",
   "metadata": {},
   "outputs": [
    {
     "name": "stdout",
     "output_type": "stream",
     "text": [
      "The square root of 25 is 5.0.\n"
     ]
    }
   ],
   "source": [
    "import math\n",
    "\n",
    "# Given number\n",
    "number = 25\n",
    "\n",
    "# Calculate the square root\n",
    "square_root = math.sqrt(number)\n",
    "\n",
    "# Print the result\n",
    "print(f\"The square root of {number} is {square_root}.\")"
   ]
  },
  {
   "cell_type": "markdown",
   "id": "3b8743eb",
   "metadata": {},
   "source": [
    "Calculate the value of a raised to the power of b.\n"
   ]
  },
  {
   "cell_type": "code",
   "execution_count": 10,
   "id": "d278563f",
   "metadata": {},
   "outputs": [
    {
     "name": "stdout",
     "output_type": "stream",
     "text": [
      "2 raised to the power of 3 is 8.\n"
     ]
    }
   ],
   "source": [
    "# Given values\n",
    "a = 2\n",
    "b = 3\n",
    "\n",
    "# Calculate a^b\n",
    "result = a ** b\n",
    "\n",
    "# Print the result\n",
    "print(f\"{a} raised to the power of {b} is {result}.\")"
   ]
  },
  {
   "cell_type": "markdown",
   "id": "d06e7a77",
   "metadata": {},
   "source": [
    "Round a float to the nearest integer."
   ]
  },
  {
   "cell_type": "code",
   "execution_count": 11,
   "id": "2f5873c3",
   "metadata": {},
   "outputs": [
    {
     "name": "stdout",
     "output_type": "stream",
     "text": [
      "The rounded value of 3.7 is 4.\n"
     ]
    }
   ],
   "source": [
    "# Given float\n",
    "floating_number = 3.7\n",
    "\n",
    "# Round to the nearest integer\n",
    "rounded_number = round(floating_number)\n",
    "\n",
    "# Print the result\n",
    "print(f\"The rounded value of {floating_number} is {rounded_number}.\")"
   ]
  },
  {
   "cell_type": "markdown",
   "id": "34f33237",
   "metadata": {},
   "source": [
    "Combine multiple conditions using logical operators and print the result."
   ]
  },
  {
   "cell_type": "code",
   "execution_count": null,
   "id": "687d14b0",
   "metadata": {},
   "outputs": [],
   "source": [
    "# Given conditions\n",
    "condition_1 = True\n",
    "condition_2 = False\n",
    "\n",
    "# Combine conditions using logical operators\n",
    "result_and = condition_1 and condition_2\n",
    "result_or = condition_1 or condition_2\n",
    "result_not = not condition_1\n",
    "\n",
    "# Print the results\n",
    "print(f\"Result of AND operation: {result_and}\")\n",
    "print(f\"Result of OR operation: {result_or}\")\n",
    "print(f\"Result of NOT operation: {result_not}\")"
   ]
  },
  {
   "cell_type": "markdown",
   "id": "ab20128b",
   "metadata": {},
   "source": [
    "Generate a random number between 1 and 100.**(challenging)**\n"
   ]
  },
  {
   "cell_type": "code",
   "execution_count": null,
   "id": "43ac553b",
   "metadata": {},
   "outputs": [],
   "source": [
    "import random\n",
    "\n",
    "# Generate a random number between 1 and 100\n",
    "random_number = random.randint(1, 100)\n",
    "\n",
    "# Print the result\n",
    "print(f\"Random number between 1 and 100: {random_number}\")"
   ]
  },
  {
   "cell_type": "code",
   "execution_count": 12,
   "id": "08b1a18f",
   "metadata": {},
   "outputs": [
    {
     "name": "stdout",
     "output_type": "stream",
     "text": [
      "The challenging randomly generated number is: 39\n"
     ]
    }
   ],
   "source": [
    "import random\n",
    "\n",
    "# Generate a random number between 1 and 100 (inclusive)\n",
    "random_number = random.random() * 100 + 1\n",
    "\n",
    "# Round the result to an integer\n",
    "random_number = round(random_number)\n",
    "\n",
    "# Print the result\n",
    "print(f\"The challenging randomly generated number is: {random_number}\")"
   ]
  },
  {
   "cell_type": "code",
   "execution_count": 13,
   "id": "614ec84c",
   "metadata": {},
   "outputs": [
    {
     "name": "stdout",
     "output_type": "stream",
     "text": [
      "The challenging randomly generated number is: 27\n"
     ]
    }
   ],
   "source": [
    "import random\n",
    "\n",
    "# Generate a random number between 1 and 100 (inclusive)\n",
    "random_number = int(random.uniform(1, 101))\n",
    "\n",
    "# Print the result\n",
    "print(f\"The challenging randomly generated number is: {random_number}\")"
   ]
  }
 ],
 "metadata": {
  "kernelspec": {
   "display_name": "Python 3 (ipykernel)",
   "language": "python",
   "name": "python3"
  },
  "language_info": {
   "codemirror_mode": {
    "name": "ipython",
    "version": 3
   },
   "file_extension": ".py",
   "mimetype": "text/x-python",
   "name": "python",
   "nbconvert_exporter": "python",
   "pygments_lexer": "ipython3",
   "version": "3.11.2"
  }
 },
 "nbformat": 4,
 "nbformat_minor": 5
}
