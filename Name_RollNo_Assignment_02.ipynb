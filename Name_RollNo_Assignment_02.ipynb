{
 "cells": [
  {
   "cell_type": "markdown",
   "id": "1776f63f",
   "metadata": {},
   "source": [
    "### Assignment-02\n",
    "- Change the notebook name with your name and Roll Number.\n",
    "- Try this as your own, no chatgpt (it's for your learning)\n",
    "- after completing the assignment, submit this book on google class room."
   ]
  },
  {
   "cell_type": "markdown",
   "id": "5bc28c35",
   "metadata": {},
   "source": [
    "Declare and print a variable with the name \"name\" containing your name.\n"
   ]
  },
  {
   "cell_type": "code",
   "execution_count": null,
   "id": "4eb1e464",
   "metadata": {},
   "outputs": [],
   "source": [
    "name = \"Muhammad Usama Rehan\"\n",
    "print(name)"
   ]
  },
  {
   "cell_type": "markdown",
   "id": "b66e672b",
   "metadata": {},
   "source": [
    "Create two variables, x and y, and swap their values without using a third variable."
   ]
  },
  {
   "cell_type": "code",
   "execution_count": null,
   "id": "5734b25c",
   "metadata": {},
   "outputs": [],
   "source": [
    "# Initial values\n",
    "x = 5\n",
    "y = 10\n",
    "\n",
    "# Swapping without a third variable\n",
    "x = x + y\n",
    "y = x - y\n",
    "x = x - y\n",
    "\n",
    "# Now, x and y have their values swapped\n",
    "print(\"x:\", x)\n",
    "print(\"y:\", y)"
   ]
  },
  {
   "cell_type": "markdown",
   "id": "68c5f126",
   "metadata": {},
   "source": [
    "Calculate the area of a rectangle with length and width stored in variables.\n"
   ]
  },
  {
   "cell_type": "code",
   "execution_count": null,
   "id": "efead34a",
   "metadata": {},
   "outputs": [],
   "source": [
    "# Initial values\n",
    "height = 10\n",
    "width = 30\n",
    "# calculating area\n",
    "area = height * width\n",
    "#output\n",
    "print(area)"
   ]
  },
  {
   "cell_type": "markdown",
   "id": "e452ae4d",
   "metadata": {},
   "source": [
    "Create a variable with a long string (multi-line) and print its length."
   ]
  },
  {
   "cell_type": "code",
   "execution_count": null,
   "id": "0f7d6636",
   "metadata": {},
   "outputs": [],
   "source": [
    "string = \"\"\"I like eating mangoes \n",
    "but mangoes are so chemical full\"\"\"\n",
    "# output\n",
    "print(len(string))"
   ]
  },
  {
   "cell_type": "markdown",
   "id": "708def01",
   "metadata": {},
   "source": [
    "Create a variable to store your favorite number and print it."
   ]
  },
  {
   "cell_type": "code",
   "execution_count": null,
   "id": "d810e261",
   "metadata": {},
   "outputs": [],
   "source": [
    "my_fav_num = 1\n",
    "# output\n",
    "print(my_fav_num)"
   ]
  },
  {
   "cell_type": "markdown",
   "id": "9088a41e",
   "metadata": {},
   "source": [
    "Declare and assign values to multiple variables to represent the sides of a triangle. Calculate and print its perimeter.\n"
   ]
  },
  {
   "cell_type": "code",
   "execution_count": null,
   "id": "13d9d2d2",
   "metadata": {},
   "outputs": [],
   "source": [
    "side_a = 10\n",
    "side_b = 20\n",
    "side_c = 10\n",
    "# perimeter\n",
    "perimeter = side_a + side_b + side_c\n",
    "# output\n",
    "print(perimeter)"
   ]
  },
  {
   "cell_type": "markdown",
   "id": "a76f2d4f",
   "metadata": {},
   "source": [
    "Store the price of an item in one variable and the quantity in another. Calculate and print the total cost.\n"
   ]
  },
  {
   "cell_type": "code",
   "execution_count": null,
   "id": "8cc9115b",
   "metadata": {},
   "outputs": [],
   "source": [
    "item_price = 10\n",
    "item_qty = 20\n",
    "\n",
    "total_price = item_price * item_qty\n",
    "# output\n",
    "print(total_price)"
   ]
  },
  {
   "cell_type": "markdown",
   "id": "7d9d0793",
   "metadata": {},
   "source": [
    "Declare a constant variable for the value of pi (π) and use it to calculate the circumference of a circle with a given radius."
   ]
  },
  {
   "cell_type": "code",
   "execution_count": null,
   "id": "254f3e92",
   "metadata": {},
   "outputs": [],
   "source": [
    "PI = Math.pi\n",
    "radius = 5.0\n",
    "# Calculate the circumference of the circle\n",
    "circumference = 2 * PI * radius\n",
    "\n",
    "print(circumference)\n",
    "\n"
   ]
  },
  {
   "cell_type": "markdown",
   "id": "2415eca0",
   "metadata": {},
   "source": [
    "Calculate the sum of two numbers, a and b."
   ]
  },
  {
   "cell_type": "code",
   "execution_count": null,
   "id": "8eeee19d",
   "metadata": {},
   "outputs": [],
   "source": [
    "def sum(a, b):\n",
    "    return a + b\n",
    "\n",
    "print(sum(10, 5))"
   ]
  },
  {
   "cell_type": "markdown",
   "id": "2f3f9653",
   "metadata": {},
   "source": [
    "Calculate the product of two numbers, a and b.\n"
   ]
  },
  {
   "cell_type": "code",
   "execution_count": null,
   "id": "baac0709",
   "metadata": {},
   "outputs": [],
   "source": [
    "def multiply(a, b):\n",
    "    return a * b\n",
    "\n",
    "print(multiply(10, 5))"
   ]
  },
  {
   "cell_type": "markdown",
   "id": "263bb83b",
   "metadata": {},
   "source": [
    "Calculate the result of dividing a by b (with proper error handling for division by zero).\n"
   ]
  },
  {
   "cell_type": "code",
   "execution_count": null,
   "id": "783ef794",
   "metadata": {},
   "outputs": [],
   "source": [
    "def divide(dividand, divisor):\n",
    "    if divisor == 0:\n",
    "        raise ZeroDivisionError(\"Error: Division by zero is not allowed\")\n",
    "    return dividand//divisor\n",
    "try:\n",
    "    print(divide(1, 0))\n",
    "except ZeroDivisionError as e:\n",
    "    print(\"Error: Division by zero is not allowed\" + e)\n"
   ]
  },
  {
   "cell_type": "markdown",
   "id": "1160a016",
   "metadata": {},
   "source": [
    "Calculate the square of a number x."
   ]
  },
  {
   "cell_type": "code",
   "execution_count": null,
   "id": "ba1443de",
   "metadata": {},
   "outputs": [],
   "source": [
    "def sqrt(x):\n",
    "    return x*x\n",
    "\n",
    "print(sqrt(10))"
   ]
  },
  {
   "cell_type": "markdown",
   "id": "927cffd3",
   "metadata": {},
   "source": [
    "Calculate the remainder when a is divided by b."
   ]
  },
  {
   "cell_type": "code",
   "execution_count": null,
   "id": "f95b1e5c",
   "metadata": {},
   "outputs": [],
   "source": [
    "a = 10\n",
    "b = 5\n",
    "\n",
    "try:\n",
    "    print(a % b)\n",
    "except ZeroDivisionError as e:\n",
    "    print(e)"
   ]
  },
  {
   "cell_type": "markdown",
   "id": "fad0381a",
   "metadata": {},
   "source": [
    " Calculate the result of dividing 17 by 3 and print the quotient and remainder."
   ]
  },
  {
   "cell_type": "code",
   "execution_count": null,
   "id": "6bbe2ffb",
   "metadata": {},
   "outputs": [],
   "source": []
  },
  {
   "cell_type": "markdown",
   "id": "0abdb0ba",
   "metadata": {},
   "source": [
    "Calculate the area of a square with a given side length.\n"
   ]
  },
  {
   "cell_type": "code",
   "execution_count": null,
   "id": "4a0edefb",
   "metadata": {},
   "outputs": [],
   "source": []
  },
  {
   "cell_type": "markdown",
   "id": "0c15704a",
   "metadata": {},
   "source": [
    "Calculate the average of five numbers.\n"
   ]
  },
  {
   "cell_type": "code",
   "execution_count": null,
   "id": "ae66922d",
   "metadata": {},
   "outputs": [],
   "source": []
  },
  {
   "cell_type": "markdown",
   "id": "da3cde84",
   "metadata": {},
   "source": [
    "Create a variable with a boolean value and print its opposite value.\n"
   ]
  },
  {
   "cell_type": "code",
   "execution_count": null,
   "id": "0bb430b5",
   "metadata": {},
   "outputs": [],
   "source": []
  },
  {
   "cell_type": "markdown",
   "id": "d800b510",
   "metadata": {},
   "source": [
    "Store your birth year in a variable and calculate your age."
   ]
  },
  {
   "cell_type": "code",
   "execution_count": null,
   "id": "94ac0a22",
   "metadata": {},
   "outputs": [],
   "source": []
  },
  {
   "cell_type": "markdown",
   "id": "193bd0c7",
   "metadata": {},
   "source": [
    "Create a variable with an integer and convert it to a float."
   ]
  },
  {
   "cell_type": "code",
   "execution_count": null,
   "id": "c862dfa4",
   "metadata": {},
   "outputs": [],
   "source": []
  },
  {
   "cell_type": "markdown",
   "id": "d6e985ae",
   "metadata": {},
   "source": [
    "Create a variable with a float and convert it to an integer."
   ]
  },
  {
   "cell_type": "code",
   "execution_count": null,
   "id": "db782f94",
   "metadata": {},
   "outputs": [],
   "source": []
  },
  {
   "cell_type": "markdown",
   "id": "03fbd24c",
   "metadata": {},
   "source": [
    "Create a variable with a string that represents an integer and convert it to an integer."
   ]
  },
  {
   "cell_type": "code",
   "execution_count": null,
   "id": "15e98a9c",
   "metadata": {},
   "outputs": [],
   "source": []
  },
  {
   "cell_type": "markdown",
   "id": "7b82ee26",
   "metadata": {},
   "source": [
    "Create a variable with a string that represents a float and convert it to a float.\n"
   ]
  },
  {
   "cell_type": "code",
   "execution_count": null,
   "id": "31b96ee5",
   "metadata": {},
   "outputs": [],
   "source": []
  },
  {
   "cell_type": "markdown",
   "id": "55b70302",
   "metadata": {},
   "source": [
    "Create a variable with a number and convert it to a string."
   ]
  },
  {
   "cell_type": "code",
   "execution_count": null,
   "id": "191ca6c0",
   "metadata": {},
   "outputs": [],
   "source": []
  },
  {
   "cell_type": "markdown",
   "id": "12030234",
   "metadata": {},
   "source": [
    "Calculate the absolute value of a number.\n",
    "\n"
   ]
  },
  {
   "cell_type": "code",
   "execution_count": null,
   "id": "e6e2dbb2",
   "metadata": {},
   "outputs": [],
   "source": []
  },
  {
   "cell_type": "markdown",
   "id": "0bcb4315",
   "metadata": {},
   "source": [
    "Calculate the square root of a number.\n"
   ]
  },
  {
   "cell_type": "code",
   "execution_count": null,
   "id": "1ffc86be",
   "metadata": {},
   "outputs": [],
   "source": []
  },
  {
   "cell_type": "markdown",
   "id": "3b8743eb",
   "metadata": {},
   "source": [
    "Calculate the value of a raised to the power of b.\n"
   ]
  },
  {
   "cell_type": "code",
   "execution_count": null,
   "id": "d278563f",
   "metadata": {},
   "outputs": [],
   "source": []
  },
  {
   "cell_type": "code",
   "execution_count": null,
   "id": "41c65c05",
   "metadata": {},
   "outputs": [],
   "source": []
  },
  {
   "cell_type": "markdown",
   "id": "d06e7a77",
   "metadata": {},
   "source": [
    "Round a float to the nearest integer."
   ]
  },
  {
   "cell_type": "code",
   "execution_count": null,
   "id": "2f5873c3",
   "metadata": {},
   "outputs": [],
   "source": []
  },
  {
   "cell_type": "markdown",
   "id": "34f33237",
   "metadata": {},
   "source": [
    "Combine multiple conditions using logical operators and print the result."
   ]
  },
  {
   "cell_type": "code",
   "execution_count": null,
   "id": "687d14b0",
   "metadata": {},
   "outputs": [],
   "source": []
  },
  {
   "cell_type": "markdown",
   "id": "ab20128b",
   "metadata": {},
   "source": [
    "Generate a random number between 1 and 100.**(challenging)**\n"
   ]
  },
  {
   "cell_type": "code",
   "execution_count": null,
   "id": "43ac553b",
   "metadata": {},
   "outputs": [],
   "source": []
  },
  {
   "cell_type": "code",
   "execution_count": null,
   "id": "08b1a18f",
   "metadata": {},
   "outputs": [],
   "source": []
  },
  {
   "cell_type": "code",
   "execution_count": null,
   "id": "614ec84c",
   "metadata": {},
   "outputs": [],
   "source": []
  }
 ],
 "metadata": {
  "kernelspec": {
   "display_name": "Python 3 (ipykernel)",
   "language": "python",
   "name": "python3"
  },
  "language_info": {
   "codemirror_mode": {
    "name": "ipython",
    "version": 3
   },
   "file_extension": ".py",
   "mimetype": "text/x-python",
   "name": "python",
   "nbconvert_exporter": "python",
   "pygments_lexer": "ipython3",
   "version": "3.10.12"
  }
 },
 "nbformat": 4,
 "nbformat_minor": 5
}
