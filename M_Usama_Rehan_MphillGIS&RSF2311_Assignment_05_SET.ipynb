{
 "cells": [
  {
   "cell_type": "markdown",
   "id": "a97576a6",
   "metadata": {},
   "source": [
    "### Assignment-05 (SET)\n",
    "- Change the notebook name with your name and Roll Number.\n",
    "- Try this as your own, no chatgpt (it's for your learning)\n",
    "- after completing the assignment, submit this book on google class room."
   ]
  },
  {
   "cell_type": "markdown",
   "id": "d1ddf3da",
   "metadata": {},
   "source": [
    "    Create an empty set and print it.\n",
    "  "
   ]
  },
  {
   "cell_type": "code",
   "execution_count": null,
   "id": "c9e9db1e",
   "metadata": {},
   "outputs": [],
   "source": [
    "empty_set = set()\n",
    "print(empty_set)"
   ]
  },
  {
   "cell_type": "markdown",
   "id": "eeb8fb4d",
   "metadata": {},
   "source": [
    "  Create a set of your favorite colors and print it.\n"
   ]
  },
  {
   "cell_type": "code",
   "execution_count": 2,
   "id": "d8867e41",
   "metadata": {},
   "outputs": [
    {
     "name": "stdout",
     "output_type": "stream",
     "text": [
      "{'green', 'blue', 'red'}\n"
     ]
    }
   ],
   "source": [
    "fav_color_set = set()\n",
    "fav_color_set = {'red', 'green', 'blue'}\n",
    "print(fav_color_set)"
   ]
  },
  {
   "cell_type": "markdown",
   "id": "5e724df6",
   "metadata": {},
   "source": [
    "    Create a set that includes a mix of data types (integers, strings, floats)."
   ]
  },
  {
   "cell_type": "code",
   "execution_count": 3,
   "id": "e496901a",
   "metadata": {},
   "outputs": [
    {
     "name": "stdout",
     "output_type": "stream",
     "text": [
      "{'green', 1, 1.4}\n"
     ]
    }
   ],
   "source": [
    "mix_set = set()\n",
    "mix_set = {1, 'green', 1.4}\n",
    "print(mix_set)"
   ]
  },
  {
   "cell_type": "markdown",
   "id": "d2b80125",
   "metadata": {},
   "source": [
    "Access the elements of a set using a loop and print each element."
   ]
  },
  {
   "cell_type": "code",
   "execution_count": 4,
   "id": "3ceec096",
   "metadata": {},
   "outputs": [
    {
     "name": "stdout",
     "output_type": "stream",
     "text": [
      "green\n",
      "blue\n",
      "red\n"
     ]
    }
   ],
   "source": [
    "fav_color_set = set()\n",
    "fav_color_set = {'red', 'green', 'blue'}\n",
    "for f in fav_color_set:\n",
    "    print(f)"
   ]
  },
  {
   "cell_type": "markdown",
   "id": "08fdccf7",
   "metadata": {},
   "source": [
    "add a new element to a set using the add() method."
   ]
  },
  {
   "cell_type": "code",
   "execution_count": 5,
   "id": "5d5273f9",
   "metadata": {},
   "outputs": [
    {
     "name": "stdout",
     "output_type": "stream",
     "text": [
      "{'green', 'blue', 'red', 'yellow'}\n"
     ]
    }
   ],
   "source": [
    "fav_color_set = set()\n",
    "fav_color_set = {'red', 'green', 'blue'}\n",
    "fav_color_set.add('yellow')\n",
    "print(fav_color_set)"
   ]
  },
  {
   "cell_type": "markdown",
   "id": "c8257b4c",
   "metadata": {},
   "source": [
    "Add multiple elements to a set using the update() method."
   ]
  },
  {
   "cell_type": "code",
   "execution_count": 7,
   "id": "d3fe8634",
   "metadata": {},
   "outputs": [
    {
     "name": "stdout",
     "output_type": "stream",
     "text": [
      "{'red', 'blue', 'green', 'orange', 'yellow'}\n"
     ]
    }
   ],
   "source": [
    "fav_color_set1 = set()\n",
    "fav_color_set1 = {'red', 'green', 'blue'}\n",
    "fav_color_set1.update(['red', 'yellow', 'orange'])\n",
    "print(fav_color_set1)"
   ]
  },
  {
   "cell_type": "markdown",
   "id": "e8adbe50",
   "metadata": {},
   "source": [
    "Remove and return an arbitrary element from a set using the pop() method."
   ]
  },
  {
   "cell_type": "code",
   "execution_count": 8,
   "id": "bfdcad15",
   "metadata": {},
   "outputs": [
    {
     "name": "stdout",
     "output_type": "stream",
     "text": [
      "green\n"
     ]
    }
   ],
   "source": [
    "fav_color_set1 = set()\n",
    "fav_color_set1 = {'red', 'green', 'blue'}\n",
    "popped = fav_color_set1.pop()\n",
    "print(popped)"
   ]
  },
  {
   "cell_type": "markdown",
   "id": "6bacfc71",
   "metadata": {},
   "source": [
    "Remove a specific element from a set using the remove() method."
   ]
  },
  {
   "cell_type": "code",
   "execution_count": 10,
   "id": "d7d4d697",
   "metadata": {},
   "outputs": [
    {
     "name": "stdout",
     "output_type": "stream",
     "text": [
      "{'green', 'blue'}\n"
     ]
    }
   ],
   "source": [
    "fav_color_set1 = set()\n",
    "fav_color_set1 = {'red', 'green', 'blue'}\n",
    "fav_color_set1.remove('red')\n",
    "print(fav_color_set1)"
   ]
  },
  {
   "cell_type": "markdown",
   "id": "1844da3c",
   "metadata": {},
   "source": [
    "Remove a specific element from a set using the discard() method."
   ]
  },
  {
   "cell_type": "code",
   "execution_count": 11,
   "id": "36164bf7",
   "metadata": {},
   "outputs": [
    {
     "name": "stdout",
     "output_type": "stream",
     "text": [
      "{'green', 'blue', 'red'}\n"
     ]
    }
   ],
   "source": [
    "fav_color_set1 = set()\n",
    "fav_color_set1 = {'red', 'green', 'blue'}\n",
    "fav_color_set1.discard(2)\n",
    "print(fav_color_set1)"
   ]
  },
  {
   "cell_type": "markdown",
   "id": "8bd3aadb",
   "metadata": {},
   "source": [
    "Convert a string to a set of unique characters."
   ]
  },
  {
   "cell_type": "code",
   "execution_count": 13,
   "id": "5d135ac7",
   "metadata": {},
   "outputs": [
    {
     "name": "stdout",
     "output_type": "stream",
     "text": [
      "{'o', ' ', 'e', ',', 'd', 'w', 'h', 'r', 'l', '!'}\n"
     ]
    }
   ],
   "source": [
    "string = \"hello, world!\"\n",
    "unique_characters = set(string)\n",
    "print(unique_characters)"
   ]
  },
  {
   "cell_type": "markdown",
   "id": "6c622821",
   "metadata": {},
   "source": [
    "Convert a set of characters to a string."
   ]
  },
  {
   "cell_type": "code",
   "execution_count": 17,
   "id": "fb3156ac",
   "metadata": {},
   "outputs": [
    {
     "name": "stdout",
     "output_type": "stream",
     "text": [
      "red\n"
     ]
    }
   ],
   "source": [
    "setOfChar = set({'r', 'e', 'd'})\n",
    "string = ''\n",
    "for s in setOfChar:\n",
    "    string += s\n",
    "print(string)"
   ]
  },
  {
   "cell_type": "markdown",
   "id": "9a426c8f",
   "metadata": {},
   "source": [
    "Use the clear() method to remove all elements from a set."
   ]
  },
  {
   "cell_type": "code",
   "execution_count": 18,
   "id": "88a65643",
   "metadata": {},
   "outputs": [
    {
     "name": "stdout",
     "output_type": "stream",
     "text": [
      "set()\n"
     ]
    }
   ],
   "source": [
    "setOfChar = set({'r', 'e', 'd'})\n",
    "setOfChar.clear()\n",
    "print(setOfChar)"
   ]
  },
  {
   "cell_type": "markdown",
   "id": "9edea94d",
   "metadata": {},
   "source": [
    "Use the copy() method to create a shallow copy of a set."
   ]
  },
  {
   "cell_type": "code",
   "execution_count": 19,
   "id": "eb4e0b56",
   "metadata": {},
   "outputs": [
    {
     "name": "stdout",
     "output_type": "stream",
     "text": [
      "{'r', 'e', 'd'}\n"
     ]
    }
   ],
   "source": [
    "setOfChar = set({'r', 'e', 'd'})\n",
    "shallowCopy = setOfChar.copy()\n",
    "print(shallowCopy)"
   ]
  },
  {
   "cell_type": "markdown",
   "id": "cd9c69f0",
   "metadata": {},
   "source": [
    "Use the difference() method to find the difference between two sets."
   ]
  },
  {
   "cell_type": "code",
   "execution_count": 20,
   "id": "2f816d0f",
   "metadata": {},
   "outputs": [
    {
     "name": "stdout",
     "output_type": "stream",
     "text": [
      "{'r'}\n"
     ]
    }
   ],
   "source": [
    "setOfCharOne = set({'r', 'e', 'd'})\n",
    "setOfCharTwo = set({'b', 'e', 'd'})\n",
    "difference = setOfCharOne.difference(setOfCharTwo)\n",
    "print(difference)"
   ]
  },
  {
   "cell_type": "markdown",
   "id": "307c3f1a",
   "metadata": {},
   "source": [
    "Create two sets and find their union."
   ]
  },
  {
   "cell_type": "code",
   "execution_count": 23,
   "id": "fac5a114",
   "metadata": {},
   "outputs": [
    {
     "name": "stdout",
     "output_type": "stream",
     "text": [
      "{'e', 'r', 'b', 'd'}\n"
     ]
    }
   ],
   "source": [
    "setOfCharOne = set({'r', 'e', 'd'})\n",
    "setOfCharTwo = set({'b', 'e', 'd'})\n",
    "union = setOfCharOne.union(setOfCharTwo)\n",
    "print(union)"
   ]
  },
  {
   "cell_type": "markdown",
   "id": "eaf6ba0c",
   "metadata": {},
   "source": [
    "    Create two sets and find their intersection.\n",
    "   "
   ]
  },
  {
   "cell_type": "code",
   "execution_count": 24,
   "id": "1169662c",
   "metadata": {},
   "outputs": [
    {
     "name": "stdout",
     "output_type": "stream",
     "text": [
      "{'e', 'd'}\n"
     ]
    }
   ],
   "source": [
    "setOfCharOne = set({'r', 'e', 'd'})\n",
    "setOfCharTwo = set({'b', 'e', 'd'})\n",
    "intersection = setOfCharOne.intersection(setOfCharTwo)\n",
    "print(intersection)"
   ]
  },
  {
   "cell_type": "markdown",
   "id": "859e1d7f",
   "metadata": {},
   "source": [
    " Create two sets and find their difference.\n"
   ]
  },
  {
   "cell_type": "code",
   "execution_count": 25,
   "id": "681f05e6",
   "metadata": {},
   "outputs": [
    {
     "name": "stdout",
     "output_type": "stream",
     "text": [
      "{'r'}\n"
     ]
    }
   ],
   "source": [
    "setOfCharOne = set({'r', 'e', 'd'})\n",
    "setOfCharTwo = set({'b', 'e', 'd'})\n",
    "difference = setOfCharOne.difference(setOfCharTwo)\n",
    "print(difference)"
   ]
  },
  {
   "cell_type": "markdown",
   "id": "b1c839f5",
   "metadata": {},
   "source": [
    "    Create two sets and find their symmetric difference."
   ]
  },
  {
   "cell_type": "code",
   "execution_count": 26,
   "id": "c2695bb7",
   "metadata": {},
   "outputs": [
    {
     "name": "stdout",
     "output_type": "stream",
     "text": [
      "{'r', 'b'}\n"
     ]
    }
   ],
   "source": [
    "setOfCharOne = set({'r', 'e', 'd'})\n",
    "setOfCharTwo = set({'b', 'e', 'd'})\n",
    "s_difference = setOfCharOne.symmetric_difference(setOfCharTwo)\n",
    "print(s_difference)"
   ]
  },
  {
   "cell_type": "markdown",
   "id": "41933917",
   "metadata": {},
   "source": [
    "Check if one set is a subset of another."
   ]
  },
  {
   "cell_type": "code",
   "execution_count": 29,
   "id": "fc3d1fd0",
   "metadata": {},
   "outputs": [
    {
     "name": "stdout",
     "output_type": "stream",
     "text": [
      "True\n"
     ]
    }
   ],
   "source": [
    "# False case\n",
    "# setOfCharOne = set({'r', 'e', 'd'})\n",
    "# True case\n",
    "setOfCharOne = set({'e', 'd'})\n",
    "setOfCharTwo = set({'b', 'e', 'd'})\n",
    "isSubset = setOfCharOne.issubset(setOfCharTwo)\n",
    "print(isSubset)"
   ]
  },
  {
   "cell_type": "markdown",
   "id": "65174e5c",
   "metadata": {},
   "source": [
    "    Check if one set is a superset of another.\n"
   ]
  },
  {
   "cell_type": "code",
   "execution_count": 31,
   "id": "cc34dbf9",
   "metadata": {},
   "outputs": [
    {
     "name": "stdout",
     "output_type": "stream",
     "text": [
      "True\n"
     ]
    }
   ],
   "source": [
    "setOfCharOne = set({'e', 'd'})\n",
    "setOfCharTwo = set({'b', 'e', 'd'})\n",
    "isSuperset = setOfCharTwo.issuperset(setOfCharOne)\n",
    "print(isSuperset)"
   ]
  },
  {
   "cell_type": "markdown",
   "id": "e8b05467",
   "metadata": {},
   "source": [
    "    Check if two sets are disjoint (have no common elements)."
   ]
  },
  {
   "cell_type": "code",
   "execution_count": 32,
   "id": "f5e84a48",
   "metadata": {},
   "outputs": [
    {
     "name": "stdout",
     "output_type": "stream",
     "text": [
      "False\n"
     ]
    }
   ],
   "source": [
    "setOfCharOne = set({'e', 'd'})\n",
    "setOfCharTwo = set({'b', 'e', 'd'})\n",
    "isDisjoint = setOfCharTwo.isdisjoint(setOfCharOne)\n",
    "print(isDisjoint)"
   ]
  }
 ],
 "metadata": {
  "kernelspec": {
   "display_name": "Python 3 (ipykernel)",
   "language": "python",
   "name": "python3"
  },
  "language_info": {
   "codemirror_mode": {
    "name": "ipython",
    "version": 3
   },
   "file_extension": ".py",
   "mimetype": "text/x-python",
   "name": "python",
   "nbconvert_exporter": "python",
   "pygments_lexer": "ipython3",
   "version": "3.11.2"
  }
 },
 "nbformat": 4,
 "nbformat_minor": 5
}
