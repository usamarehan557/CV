{
 "cells": [
  {
   "cell_type": "markdown",
   "id": "48147901",
   "metadata": {},
   "source": [
    "### Assignment-04 (List)\n",
    "- Change the notebook name with your name and Roll Number.\n",
    "- Try this as your own, no chatgpt (it's for your learning)\n",
    "- after completing the assignment, submit this book on google class room."
   ]
  },
  {
   "cell_type": "code",
   "execution_count": null,
   "id": "26b4d246",
   "metadata": {},
   "outputs": [],
   "source": []
  },
  {
   "cell_type": "markdown",
   "id": "4a0551ca",
   "metadata": {},
   "source": [
    "Create an empty list and print it.\n"
   ]
  },
  {
   "cell_type": "code",
   "execution_count": null,
   "id": "d2923b71",
   "metadata": {},
   "outputs": [],
   "source": []
  },
  {
   "cell_type": "markdown",
   "id": "fa6b638e",
   "metadata": {},
   "source": [
    "Create a list of your favorite colors and print it.\n"
   ]
  },
  {
   "cell_type": "code",
   "execution_count": null,
   "id": "c549875c",
   "metadata": {},
   "outputs": [],
   "source": []
  },
  {
   "cell_type": "markdown",
   "id": "4a1371d4",
   "metadata": {},
   "source": [
    "Create a list that includes a mix of data types (integers, strings, floats).\n"
   ]
  },
  {
   "cell_type": "code",
   "execution_count": null,
   "id": "dfc878e2",
   "metadata": {},
   "outputs": [],
   "source": []
  },
  {
   "cell_type": "markdown",
   "id": "2916cde7",
   "metadata": {},
   "source": [
    "Access the first element of a list.\n"
   ]
  },
  {
   "cell_type": "code",
   "execution_count": null,
   "id": "a0a7b3d2",
   "metadata": {},
   "outputs": [],
   "source": []
  },
  {
   "cell_type": "markdown",
   "id": "13b39ea7",
   "metadata": {},
   "source": [
    "Access the last element of a list."
   ]
  },
  {
   "cell_type": "code",
   "execution_count": null,
   "id": "4f8cf5da",
   "metadata": {},
   "outputs": [],
   "source": []
  },
  {
   "cell_type": "markdown",
   "id": "ef7e0f8d",
   "metadata": {},
   "source": [
    " Access the second and third elements of a list.\n"
   ]
  },
  {
   "cell_type": "code",
   "execution_count": null,
   "id": "e215ceed",
   "metadata": {},
   "outputs": [],
   "source": []
  },
  {
   "cell_type": "markdown",
   "id": "16ef79f1",
   "metadata": {},
   "source": [
    "\n",
    "Slice a list to extract the first three elements.\n"
   ]
  },
  {
   "cell_type": "code",
   "execution_count": null,
   "id": "86d94d3c",
   "metadata": {},
   "outputs": [],
   "source": []
  },
  {
   "cell_type": "markdown",
   "id": "717afad5",
   "metadata": {},
   "source": [
    "Slice a list to extract the last three elements.\n"
   ]
  },
  {
   "cell_type": "code",
   "execution_count": null,
   "id": "2f79b771",
   "metadata": {},
   "outputs": [],
   "source": []
  },
  {
   "cell_type": "markdown",
   "id": "da7f582e",
   "metadata": {},
   "source": [
    "Slice a list to get every second element.\n"
   ]
  },
  {
   "cell_type": "code",
   "execution_count": null,
   "id": "4edeea3d",
   "metadata": {},
   "outputs": [],
   "source": []
  },
  {
   "cell_type": "markdown",
   "id": "011bb9f7",
   "metadata": {},
   "source": [
    "Reverse a list using slicing."
   ]
  },
  {
   "cell_type": "code",
   "execution_count": null,
   "id": "c11e7110",
   "metadata": {},
   "outputs": [],
   "source": []
  },
  {
   "cell_type": "markdown",
   "id": "5f45b7a8",
   "metadata": {},
   "source": [
    " Create two lists and concatenate them.\n"
   ]
  },
  {
   "cell_type": "code",
   "execution_count": null,
   "id": "2c210b01",
   "metadata": {},
   "outputs": [],
   "source": []
  },
  {
   "cell_type": "markdown",
   "id": "a6c019d7",
   "metadata": {},
   "source": [
    "\n",
    "Repeat a list multiple times using the repetition operator"
   ]
  },
  {
   "cell_type": "code",
   "execution_count": null,
   "id": "b40d10b9",
   "metadata": {},
   "outputs": [],
   "source": []
  },
  {
   "cell_type": "markdown",
   "id": "0fdf9b21",
   "metadata": {},
   "source": [
    "Add a new element to the end of a list using the append() method.\n"
   ]
  },
  {
   "cell_type": "code",
   "execution_count": null,
   "id": "86906fc9",
   "metadata": {},
   "outputs": [],
   "source": []
  },
  {
   "cell_type": "markdown",
   "id": "1812e852",
   "metadata": {},
   "source": [
    "\n",
    "Extend a list with elements from another list using the extend() method.\n"
   ]
  },
  {
   "cell_type": "code",
   "execution_count": null,
   "id": "375a8ac2",
   "metadata": {},
   "outputs": [],
   "source": []
  },
  {
   "cell_type": "markdown",
   "id": "b4285741",
   "metadata": {},
   "source": [
    "Insert an element at a specific index in a list using the insert() method."
   ]
  },
  {
   "cell_type": "code",
   "execution_count": null,
   "id": "5e5b2a93",
   "metadata": {},
   "outputs": [],
   "source": []
  },
  {
   "cell_type": "markdown",
   "id": "5926ef7b",
   "metadata": {},
   "source": [
    " Remove the last element from a list using the pop() method.\n",
    "\n"
   ]
  },
  {
   "cell_type": "code",
   "execution_count": null,
   "id": "4e3c8c6d",
   "metadata": {},
   "outputs": [],
   "source": []
  },
  {
   "cell_type": "markdown",
   "id": "34faaad1",
   "metadata": {},
   "source": [
    "Remove a specific element from a list using the remove() method.\n"
   ]
  },
  {
   "cell_type": "code",
   "execution_count": null,
   "id": "2706c63d",
   "metadata": {},
   "outputs": [],
   "source": []
  },
  {
   "cell_type": "markdown",
   "id": "b066a57c",
   "metadata": {},
   "source": [
    "Clear all elements from a list.\n"
   ]
  },
  {
   "cell_type": "code",
   "execution_count": null,
   "id": "a4cb30f8",
   "metadata": {},
   "outputs": [],
   "source": []
  },
  {
   "cell_type": "markdown",
   "id": "f9d4754d",
   "metadata": {},
   "source": [
    "Delete an element at a specific index using the del statement."
   ]
  },
  {
   "cell_type": "code",
   "execution_count": null,
   "id": "adbc06c2",
   "metadata": {},
   "outputs": [],
   "source": []
  },
  {
   "cell_type": "markdown",
   "id": "6fda5133",
   "metadata": {},
   "source": [
    "Convert a string to a list of characters and vice-versa."
   ]
  },
  {
   "cell_type": "code",
   "execution_count": null,
   "id": "7c9fe1dc",
   "metadata": {},
   "outputs": [],
   "source": []
  },
  {
   "cell_type": "code",
   "execution_count": 1,
   "id": "617e14c5",
   "metadata": {},
   "outputs": [
    {
     "ename": "SyntaxError",
     "evalue": "invalid syntax (2664476093.py, line 1)",
     "output_type": "error",
     "traceback": [
      "\u001b[1;36m  Cell \u001b[1;32mIn[1], line 1\u001b[1;36m\u001b[0m\n\u001b[1;33m    Sort a list in ascending order using the sort() method.\u001b[0m\n\u001b[1;37m         ^\u001b[0m\n\u001b[1;31mSyntaxError\u001b[0m\u001b[1;31m:\u001b[0m invalid syntax\n"
     ]
    }
   ],
   "source": [
    "Sort a list in ascending order using the sort() method.\n"
   ]
  },
  {
   "cell_type": "code",
   "execution_count": null,
   "id": "749b040c",
   "metadata": {},
   "outputs": [],
   "source": []
  },
  {
   "cell_type": "code",
   "execution_count": null,
   "id": "8a1c1820",
   "metadata": {},
   "outputs": [],
   "source": [
    "\n",
    "Sort a list in descending order using the sort() method.\n"
   ]
  },
  {
   "cell_type": "code",
   "execution_count": null,
   "id": "9d3b86b3",
   "metadata": {},
   "outputs": [],
   "source": []
  },
  {
   "cell_type": "markdown",
   "id": "04c5419a",
   "metadata": {},
   "source": [
    "Reverse the order of a list using the reverse() method.\n"
   ]
  },
  {
   "cell_type": "code",
   "execution_count": null,
   "id": "f0eac28f",
   "metadata": {},
   "outputs": [],
   "source": []
  },
  {
   "cell_type": "markdown",
   "id": "ea816319",
   "metadata": {},
   "source": [
    "Check if an element is present in a list using the in operator.\n"
   ]
  },
  {
   "cell_type": "code",
   "execution_count": null,
   "id": "db2e8041",
   "metadata": {},
   "outputs": [],
   "source": []
  },
  {
   "cell_type": "markdown",
   "id": "f17e9e0a",
   "metadata": {},
   "source": [
    "Compare two lists to see if they are equal in both value and identity.\n"
   ]
  },
  {
   "cell_type": "code",
   "execution_count": null,
   "id": "cc5763b1",
   "metadata": {},
   "outputs": [],
   "source": []
  },
  {
   "cell_type": "markdown",
   "id": "19d815f3",
   "metadata": {},
   "source": [
    "Create a shallow copy of a list and modify one of the lists to observe the effects on the other.\n"
   ]
  },
  {
   "cell_type": "code",
   "execution_count": null,
   "id": "92979606",
   "metadata": {},
   "outputs": [],
   "source": []
  },
  {
   "cell_type": "markdown",
   "id": "6c8f1702",
   "metadata": {},
   "source": [
    "Create a deep copy of a nested list and modify one of the lists to observe the effects on the other."
   ]
  },
  {
   "cell_type": "code",
   "execution_count": null,
   "id": "87a8af6d",
   "metadata": {},
   "outputs": [],
   "source": []
  },
  {
   "cell_type": "markdown",
   "id": "c52154a0",
   "metadata": {},
   "source": [
    "Pickle and Unpickle a list and display its content."
   ]
  },
  {
   "cell_type": "code",
   "execution_count": null,
   "id": "2c97aff5",
   "metadata": {},
   "outputs": [],
   "source": []
  },
  {
   "cell_type": "code",
   "execution_count": null,
   "id": "9415e114",
   "metadata": {},
   "outputs": [],
   "source": []
  }
 ],
 "metadata": {
  "kernelspec": {
   "display_name": "Python 3 (ipykernel)",
   "language": "python",
   "name": "python3"
  },
  "language_info": {
   "codemirror_mode": {
    "name": "ipython",
    "version": 3
   },
   "file_extension": ".py",
   "mimetype": "text/x-python",
   "name": "python",
   "nbconvert_exporter": "python",
   "pygments_lexer": "ipython3",
   "version": "3.10.13"
  }
 },
 "nbformat": 4,
 "nbformat_minor": 5
}
